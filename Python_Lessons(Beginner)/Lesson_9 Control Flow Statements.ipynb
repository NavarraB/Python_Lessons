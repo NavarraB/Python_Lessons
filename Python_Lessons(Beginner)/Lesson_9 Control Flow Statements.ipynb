{
 "cells": [
  {
   "cell_type": "markdown",
   "metadata": {},
   "source": [
    "## The answer of set assignment"
   ]
  },
  {
   "cell_type": "code",
   "execution_count": 1,
   "metadata": {},
   "outputs": [
    {
     "name": "stdout",
     "output_type": "stream",
     "text": [
      "Give me a word: asda\n",
      "False\n"
     ]
    }
   ],
   "source": [
    "right_hand = set()\n",
    "right_hand.update('yhnujmıköolçpşğiü')\n",
    "left_hand = set()\n",
    "left_hand.update('qazwsxedcrfvtgb')\n",
    "word = input('Give me a word: ')\n",
    "given_word = set(word)\n",
    "print(bool((left_hand & given_word) and (right_hand & given_word)))"
   ]
  },
  {
   "cell_type": "markdown",
   "metadata": {},
   "source": [
    "# Control Flow Statements"
   ]
  },
  {
   "cell_type": "markdown",
   "metadata": {},
   "source": [
    "### if statements"
   ]
  },
  {
   "cell_type": "code",
   "execution_count": 2,
   "metadata": {},
   "outputs": [
    {
     "name": "stdout",
     "output_type": "stream",
     "text": [
      "Deniz\n"
     ]
    }
   ],
   "source": [
    "if len('Deniz') > 2:\n",
    "    print('Deniz')\n",
    "elif len('Deniz') < 2:\n",
    "    print('Kara')\n",
    "else:\n",
    "    print('Nothing')"
   ]
  },
  {
   "cell_type": "code",
   "execution_count": 3,
   "metadata": {},
   "outputs": [
    {
     "data": {
      "text/plain": [
       "False"
      ]
     },
     "execution_count": 3,
     "metadata": {},
     "output_type": "execute_result"
    }
   ],
   "source": [
    "len('Deniz') > 6"
   ]
  },
  {
   "cell_type": "code",
   "execution_count": 4,
   "metadata": {},
   "outputs": [
    {
     "name": "stdout",
     "output_type": "stream",
     "text": [
      "Print the body\n"
     ]
    }
   ],
   "source": [
    "if True:\n",
    "    print('Print the body')"
   ]
  },
  {
   "cell_type": "code",
   "execution_count": 5,
   "metadata": {},
   "outputs": [
    {
     "name": "stdout",
     "output_type": "stream",
     "text": [
      "Print the body\n",
      "Outside\n"
     ]
    }
   ],
   "source": [
    "if True:\n",
    "    print('Print the body')\n",
    "print('Outside')"
   ]
  },
  {
   "cell_type": "code",
   "execution_count": 6,
   "metadata": {},
   "outputs": [
    {
     "name": "stdout",
     "output_type": "stream",
     "text": [
      "if the body is False, write here\n"
     ]
    }
   ],
   "source": [
    "if False:\n",
    "    print('Skip the body')\n",
    "else:\n",
    "    print('if the body is False, write here')"
   ]
  },
  {
   "cell_type": "markdown",
   "metadata": {},
   "source": [
    "# ==\n",
    "# !=\n",
    "# >\n",
    "# <\n",
    "# >=\n",
    "# <="
   ]
  },
  {
   "cell_type": "code",
   "execution_count": 7,
   "metadata": {},
   "outputs": [
    {
     "name": "stdout",
     "output_type": "stream",
     "text": [
      "Blue\n"
     ]
    }
   ],
   "source": [
    "if 2 > 1 and 3 > 4:\n",
    "    print('Red')\n",
    "else:\n",
    "    print('Blue')"
   ]
  },
  {
   "cell_type": "code",
   "execution_count": 8,
   "metadata": {},
   "outputs": [
    {
     "name": "stdout",
     "output_type": "stream",
     "text": [
      "Red\n"
     ]
    }
   ],
   "source": [
    "if 2 > 1 or 3 > 4:\n",
    "    print('Red')\n",
    "else:\n",
    "    print('Blue')"
   ]
  },
  {
   "cell_type": "code",
   "execution_count": 9,
   "metadata": {},
   "outputs": [
    {
     "name": "stdout",
     "output_type": "stream",
     "text": [
      "Give me a number: 8\n",
      "Black\n"
     ]
    }
   ],
   "source": [
    "number = int(input('Give me a number: '))\n",
    "if number == 1 or number == 2:\n",
    "    output = 'Blue'\n",
    "elif number in (3, 4, 5, 6):\n",
    "    output = 'Red'\n",
    "elif number == 7:\n",
    "    output = 'Yellow'\n",
    "elif number == 1:\n",
    "    output = 'White'\n",
    "else:\n",
    "    output = 'Black'\n",
    "print(output)"
   ]
  },
  {
   "cell_type": "markdown",
   "metadata": {},
   "source": [
    "85 > AA, \n",
    "80-85 AB, \n",
    "75-80 BA, \n",
    "70-75 BB,\n",
    "65-70 CB,\n",
    "60-65 CC,\n",
    "55-60 DC,\n",
    "50-55 DD,\n",
    "< 50 F"
   ]
  },
  {
   "cell_type": "code",
   "execution_count": 10,
   "metadata": {},
   "outputs": [
    {
     "name": "stdout",
     "output_type": "stream",
     "text": [
      "Enter your score: 67\n",
      "Your degree is CB\n"
     ]
    }
   ],
   "source": [
    "score = int(input('Enter your score: '))\n",
    "if score >= 80:\n",
    "    if score >= 85:\n",
    "        x = 'AA'\n",
    "    else:\n",
    "        x = 'AB'\n",
    "elif score >= 70:\n",
    "    if score >= 75:\n",
    "        x = 'BA'\n",
    "    else:\n",
    "        x = 'BB'\n",
    "elif score >= 60:\n",
    "    if score >= 65:\n",
    "        x = 'CB'\n",
    "    else:\n",
    "        x = 'CC'\n",
    "elif score >= 50:\n",
    "    if score >= 55:\n",
    "        x = 'DC'\n",
    "    else:\n",
    "        x = 'DD'\n",
    "else:\n",
    "    x = 'F'\n",
    "print('Your degree is', x)"
   ]
  },
  {
   "cell_type": "markdown",
   "metadata": {},
   "source": [
    "### List Assignment"
   ]
  },
  {
   "cell_type": "code",
   "execution_count": 11,
   "metadata": {},
   "outputs": [],
   "source": [
    "numbers = [1, 3, 7, 4, 3, 0, 3, 6, 3]"
   ]
  },
  {
   "cell_type": "code",
   "execution_count": 12,
   "metadata": {},
   "outputs": [],
   "source": [
    "# the most frequent number is 3 and it was 4 times repeated"
   ]
  }
 ],
 "metadata": {
  "kernelspec": {
   "display_name": "Python 3",
   "language": "python",
   "name": "python3"
  },
  "language_info": {
   "codemirror_mode": {
    "name": "ipython",
    "version": 3
   },
   "file_extension": ".py",
   "mimetype": "text/x-python",
   "name": "python",
   "nbconvert_exporter": "python",
   "pygments_lexer": "ipython3",
   "version": "3.7.3"
  }
 },
 "nbformat": 4,
 "nbformat_minor": 2
}
